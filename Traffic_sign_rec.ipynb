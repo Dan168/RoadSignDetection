{
  "nbformat": 4,
  "nbformat_minor": 0,
  "metadata": {
    "colab": {
      "provenance": [],
      "gpuType": "T4"
    },
    "kernelspec": {
      "name": "python3",
      "display_name": "Python 3"
    },
    "language_info": {
      "name": "python"
    },
    "accelerator": "GPU"
  },
  "cells": [
    {
      "cell_type": "markdown",
      "source": [
        "### Traffic sign recognition\n",
        "The code document for \"**Empowering full self driving with Deep learning (FSD): Empowering full self drive with Deep Learning**\"\n",
        "\n",
        "The docuemnt includes:\n",
        "\n",
        "\n",
        "1.   Data importing\n",
        "2.   Data prepreperation pipeline\n",
        "3.   Model configuration\n",
        "4.   Model training\n",
        "5.   Evaluation\n",
        "6.   Practical testing\n",
        "\n",
        "\n",
        "\n"
      ],
      "metadata": {
        "id": "PoGPbEkJPS-R"
      }
    },
    {
      "cell_type": "markdown",
      "source": [
        "Cloning Git repo containing traffic signs"
      ],
      "metadata": {
        "id": "he8Z9sc7awtJ"
      }
    },
    {
      "cell_type": "code",
      "source": [
        "!git clone https://bitbucket.org/jadslim/german-traffic-signs"
      ],
      "metadata": {
        "colab": {
          "base_uri": "https://localhost:8080/"
        },
        "id": "FU7pt6olGRye",
        "outputId": "68cdbf1e-d8d8-4a84-f2fe-b9d6e14d17d3"
      },
      "execution_count": 1,
      "outputs": [
        {
          "output_type": "stream",
          "name": "stdout",
          "text": [
            "Cloning into 'german-traffic-signs'...\n",
            "Unpacking objects: 100% (6/6), 117.80 MiB | 7.10 MiB/s, done.\n",
            "Updating files: 100% (4/4), done.\n"
          ]
        }
      ]
    },
    {
      "cell_type": "markdown",
      "source": [
        "Package imports"
      ],
      "metadata": {
        "id": "MythW4xAashU"
      }
    },
    {
      "cell_type": "code",
      "execution_count": 2,
      "metadata": {
        "id": "mXOIm_Y3F5zV"
      },
      "outputs": [],
      "source": [
        "import pickle\n",
        "import numpy as np\n",
        "import pandas as pd\n",
        "import random\n",
        "import tensorflow as tf\n",
        "from tensorflow.keras import layers, models\n",
        "from sklearn.model_selection import train_test_split\n",
        "import matplotlib.pyplot as plt"
      ]
    },
    {
      "cell_type": "markdown",
      "source": [
        "Loading class names"
      ],
      "metadata": {
        "id": "bQ9_-TAFG7Fn"
      }
    },
    {
      "cell_type": "code",
      "source": [
        "class_names = np.genfromtxt('/content/german-traffic-signs/signnames.csv', skip_header=1, dtype='str', delimiter=',')"
      ],
      "metadata": {
        "id": "mLlahaaFGHBZ"
      },
      "execution_count": 3,
      "outputs": []
    },
    {
      "cell_type": "markdown",
      "source": [
        "Loading pickled data - images are in a pickle format so need to be loaded into the environment using pickle"
      ],
      "metadata": {
        "id": "zEKkr31pG-wc"
      }
    },
    {
      "cell_type": "code",
      "source": [
        "with open('/content/german-traffic-signs/train.p', 'rb') as f:\n",
        "  train_data = pickle.load(f)\n",
        "\n",
        "with open('/content/german-traffic-signs/test.p', 'rb') as f:\n",
        "  test_data = pickle.load(f)\n",
        "\n",
        "with open('/content/german-traffic-signs/valid.p', 'rb') as f:\n",
        "  val_data = pickle.load(f)"
      ],
      "metadata": {
        "id": "34Gmai_xG0ao"
      },
      "execution_count": 4,
      "outputs": []
    },
    {
      "cell_type": "markdown",
      "source": [
        "Extracting features and lables from the pickled data"
      ],
      "metadata": {
        "id": "o8CPZjHkIF1o"
      }
    },
    {
      "cell_type": "code",
      "source": [
        "X_train, y_train = train_data['features'], train_data['labels']\n",
        "X_test, y_test = test_data['features'], test_data['labels']\n",
        "X_val, y_val = val_data['features'], val_data['labels']"
      ],
      "metadata": {
        "id": "I5h1_W35Hc-6"
      },
      "execution_count": 5,
      "outputs": []
    },
    {
      "cell_type": "markdown",
      "source": [
        "Normalise the pixel values between 0-1"
      ],
      "metadata": {
        "id": "Z8yard_xIavU"
      }
    },
    {
      "cell_type": "code",
      "source": [
        "X_train = X_train / 255.0\n",
        "X_test = X_test / 255.0\n",
        "X_val = X_val / 255.0"
      ],
      "metadata": {
        "id": "h3QiTsyHIaUa"
      },
      "execution_count": 6,
      "outputs": []
    },
    {
      "cell_type": "markdown",
      "source": [
        "Train test split process"
      ],
      "metadata": {
        "id": "Ah2SA0A_I0jd"
      }
    },
    {
      "cell_type": "code",
      "source": [
        "X_train, X_val, y_train, y_val = train_test_split(X_train, y_train, test_size=0.2, random_state=1)"
      ],
      "metadata": {
        "id": "e0QvXYHNI0CC"
      },
      "execution_count": 7,
      "outputs": []
    },
    {
      "cell_type": "markdown",
      "source": [
        "Defining the CNN (Sequential mdoel)"
      ],
      "metadata": {
        "id": "Piwxm43PJbIt"
      }
    },
    {
      "cell_type": "code",
      "source": [
        "model = models.Sequential()"
      ],
      "metadata": {
        "id": "4lR1Y2PMJFpJ"
      },
      "execution_count": 8,
      "outputs": []
    },
    {
      "cell_type": "markdown",
      "source": [
        "Layers for the model"
      ],
      "metadata": {
        "id": "Amd_EUAQJmkG"
      }
    },
    {
      "cell_type": "code",
      "source": [
        "model.add(layers.Conv2D(32, (3, 3), activation='relu', input_shape=(32, 32, 3)))\n",
        "model.add(layers.MaxPooling2D((2, 2)))\n",
        "model.add(layers.Conv2D(64, (3, 3), activation='relu'))\n",
        "model.add(layers.MaxPooling2D((2, 2)))\n",
        "model.add(layers.Conv2D(64, (3, 3), activation='relu'))"
      ],
      "metadata": {
        "id": "KLcGYhP-JlYK"
      },
      "execution_count": 9,
      "outputs": []
    },
    {
      "cell_type": "markdown",
      "source": [
        "Flatten layer to transition from conv to dense layers"
      ],
      "metadata": {
        "id": "2B5mNdo_KaoP"
      }
    },
    {
      "cell_type": "code",
      "source": [
        "model.add(layers.Flatten())"
      ],
      "metadata": {
        "id": "XRPA2x16KXXA"
      },
      "execution_count": 10,
      "outputs": []
    },
    {
      "cell_type": "markdown",
      "source": [
        "Dense layers"
      ],
      "metadata": {
        "id": "wN4T09SzK5Qj"
      }
    },
    {
      "cell_type": "code",
      "source": [
        "model.add(layers.Dense(128, activation='relu'))\n",
        "model.add(layers.Dense(43, activation='softmax'))  # 43 classes for GTSRB"
      ],
      "metadata": {
        "id": "q5PkuyoMKh5j"
      },
      "execution_count": 11,
      "outputs": []
    },
    {
      "cell_type": "markdown",
      "source": [
        "Compile the model"
      ],
      "metadata": {
        "id": "17-kW9hOLAVt"
      }
    },
    {
      "cell_type": "code",
      "source": [
        "model.compile(optimizer='adam', loss='sparse_categorical_crossentropy', metrics=['accuracy'])"
      ],
      "metadata": {
        "id": "wIn8iQcrK--Y"
      },
      "execution_count": 12,
      "outputs": []
    },
    {
      "cell_type": "markdown",
      "source": [
        "Moldel summary"
      ],
      "metadata": {
        "id": "v03oSBn-LVOs"
      }
    },
    {
      "cell_type": "code",
      "source": [
        "model.summary()"
      ],
      "metadata": {
        "colab": {
          "base_uri": "https://localhost:8080/"
        },
        "id": "3EnBGEO_LYcH",
        "outputId": "9ec75851-193c-4969-9bfd-d2078d0cb315"
      },
      "execution_count": 13,
      "outputs": [
        {
          "output_type": "stream",
          "name": "stdout",
          "text": [
            "Model: \"sequential\"\n",
            "_________________________________________________________________\n",
            " Layer (type)                Output Shape              Param #   \n",
            "=================================================================\n",
            " conv2d (Conv2D)             (None, 30, 30, 32)        896       \n",
            "                                                                 \n",
            " max_pooling2d (MaxPooling2  (None, 15, 15, 32)        0         \n",
            " D)                                                              \n",
            "                                                                 \n",
            " conv2d_1 (Conv2D)           (None, 13, 13, 64)        18496     \n",
            "                                                                 \n",
            " max_pooling2d_1 (MaxPoolin  (None, 6, 6, 64)          0         \n",
            " g2D)                                                            \n",
            "                                                                 \n",
            " conv2d_2 (Conv2D)           (None, 4, 4, 64)          36928     \n",
            "                                                                 \n",
            " flatten (Flatten)           (None, 1024)              0         \n",
            "                                                                 \n",
            " dense (Dense)               (None, 128)               131200    \n",
            "                                                                 \n",
            " dense_1 (Dense)             (None, 43)                5547      \n",
            "                                                                 \n",
            "=================================================================\n",
            "Total params: 193067 (754.17 KB)\n",
            "Trainable params: 193067 (754.17 KB)\n",
            "Non-trainable params: 0 (0.00 Byte)\n",
            "_________________________________________________________________\n"
          ]
        }
      ]
    },
    {
      "cell_type": "markdown",
      "source": [
        "Train the model"
      ],
      "metadata": {
        "id": "2rEkI9buLprI"
      }
    },
    {
      "cell_type": "code",
      "source": [
        "history = model.fit(X_train, y_train, epochs=10, validation_data=(X_val, y_val))"
      ],
      "metadata": {
        "colab": {
          "base_uri": "https://localhost:8080/"
        },
        "id": "egfCnl91LaM1",
        "outputId": "c94edcc9-be88-4c1a-eca4-d4c77248b44a"
      },
      "execution_count": 14,
      "outputs": [
        {
          "output_type": "stream",
          "name": "stdout",
          "text": [
            "Epoch 1/10\n",
            "870/870 [==============================] - 14s 6ms/step - loss: 1.0884 - accuracy: 0.6941 - val_loss: 0.3036 - val_accuracy: 0.9132\n",
            "Epoch 2/10\n",
            "870/870 [==============================] - 5s 6ms/step - loss: 0.1665 - accuracy: 0.9545 - val_loss: 0.1337 - val_accuracy: 0.9718\n",
            "Epoch 3/10\n",
            "870/870 [==============================] - 4s 5ms/step - loss: 0.0826 - accuracy: 0.9786 - val_loss: 0.1111 - val_accuracy: 0.9753\n",
            "Epoch 4/10\n",
            "870/870 [==============================] - 4s 5ms/step - loss: 0.0580 - accuracy: 0.9843 - val_loss: 0.1059 - val_accuracy: 0.9770\n",
            "Epoch 5/10\n",
            "870/870 [==============================] - 5s 6ms/step - loss: 0.0376 - accuracy: 0.9891 - val_loss: 0.0872 - val_accuracy: 0.9841\n",
            "Epoch 6/10\n",
            "870/870 [==============================] - 4s 5ms/step - loss: 0.0295 - accuracy: 0.9920 - val_loss: 0.0951 - val_accuracy: 0.9805\n",
            "Epoch 7/10\n",
            "870/870 [==============================] - 4s 5ms/step - loss: 0.0282 - accuracy: 0.9918 - val_loss: 0.0774 - val_accuracy: 0.9885\n",
            "Epoch 8/10\n",
            "870/870 [==============================] - 6s 6ms/step - loss: 0.0222 - accuracy: 0.9939 - val_loss: 0.0781 - val_accuracy: 0.9897\n",
            "Epoch 9/10\n",
            "870/870 [==============================] - 4s 5ms/step - loss: 0.0181 - accuracy: 0.9949 - val_loss: 0.0815 - val_accuracy: 0.9858\n",
            "Epoch 10/10\n",
            "870/870 [==============================] - 4s 5ms/step - loss: 0.0126 - accuracy: 0.9969 - val_loss: 0.0772 - val_accuracy: 0.9884\n"
          ]
        }
      ]
    },
    {
      "cell_type": "markdown",
      "source": [
        "### Evaluation"
      ],
      "metadata": {
        "id": "e6GdexhvZEa_"
      }
    },
    {
      "cell_type": "code",
      "source": [
        "plt.plot(history.history['accuracy'])\n",
        "plt.plot(history.history['loss'])\n",
        "plt.legend(['Train', 'Validation'], loc='upper left')"
      ],
      "metadata": {
        "colab": {
          "base_uri": "https://localhost:8080/",
          "height": 448
        },
        "id": "SDEW8H4jLvu4",
        "outputId": "65620aff-d979-471c-d03b-8d94ed2ef163"
      },
      "execution_count": 15,
      "outputs": [
        {
          "output_type": "execute_result",
          "data": {
            "text/plain": [
              "<matplotlib.legend.Legend at 0x7ab242f4bb20>"
            ]
          },
          "metadata": {},
          "execution_count": 15
        },
        {
          "output_type": "display_data",
          "data": {
            "text/plain": [
              "<Figure size 640x480 with 1 Axes>"
            ],
            "image/png": "[encoded data removed]"
          },
          "metadata": {}
        }
      ]
    },
    {
      "cell_type": "markdown",
      "source": [
        "Evaluate the model on the test set"
      ],
      "metadata": {
        "id": "RNxqxSEVNoQl"
      }
    },
    {
      "cell_type": "code",
      "source": [
        "test_loss, test_accuracy = model.evaluate(X_test, y_test)\n",
        "print('Test Accuracy: {}%'.format(np.round(test_accuracy * 100, 2)))"
      ],
      "metadata": {
        "colab": {
          "base_uri": "https://localhost:8080/"
        },
        "id": "EZbnnQZAMZLh",
        "outputId": "39617ac1-dd17-4de8-a97a-239b57316b3c"
      },
      "execution_count": 16,
      "outputs": [
        {
          "output_type": "stream",
          "name": "stdout",
          "text": [
            "395/395 [==============================] - 2s 4ms/step - loss: 0.3960 - accuracy: 0.9397\n",
            "Test Accuracy: 93.97%\n"
          ]
        }
      ]
    },
    {
      "cell_type": "markdown",
      "source": [
        "Calculating recall score\n",
        "\n",
        "*Recall = True Positives+False Negatives /True Positives*\n",
        "\n",
        "Also known as sensitivity or true positivity rate\n",
        "​\n"
      ],
      "metadata": {
        "id": "9Rs77DEBuG8t"
      }
    },
    {
      "cell_type": "code",
      "source": [
        "from sklearn.metrics import recall_score\n",
        "\n",
        "y_pred = model.predict(X_test)\n",
        "y_pred_classes = np.argmax(y_pred, axis=1)\n",
        "\n",
        "recall_per_class = recall_score(y_test, y_pred_classes, average=None)\n",
        "\n",
        "for class_idx, recall in enumerate(recall_per_class):\n",
        "    class_name = class_names[class_idx]\n",
        "    print('Recall for {}: {}'.format(class_name, round(recall, 3)))\n"
      ],
      "metadata": {
        "colab": {
          "base_uri": "https://localhost:8080/"
        },
        "id": "zyrbCvcpuGLN",
        "outputId": "d8a1c4a4-6b24-4301-b3d8-31c9f51a4c0b"
      },
      "execution_count": 20,
      "outputs": [
        {
          "output_type": "stream",
          "name": "stdout",
          "text": [
            "395/395 [==============================] - 1s 2ms/step\n",
            "Recall for Speed limit (20km/h): 0.783\n",
            "Recall for Speed limit (30km/h): 0.971\n",
            "Recall for Speed limit (50km/h): 0.967\n",
            "Recall for Speed limit (60km/h): 0.958\n",
            "Recall for Speed limit (70km/h): 0.953\n",
            "Recall for Speed limit (80km/h): 0.914\n",
            "Recall for End of speed limit (80km/h): 0.72\n",
            "Recall for Speed limit (100km/h): 0.942\n",
            "Recall for Speed limit (120km/h): 0.931\n",
            "Recall for No passing: 0.977\n",
            "Recall for No passing for vechiles over 3.5 metric tons: 0.986\n",
            "Recall for Right-of-way at the next intersection: 0.931\n",
            "Recall for Priority road: 0.952\n",
            "Recall for Yield: 0.993\n",
            "Recall for Stop: 1.0\n",
            "Recall for No vechiles: 0.981\n",
            "Recall for Vechiles over 3.5 metric tons prohibited: 0.98\n",
            "Recall for No entry: 0.978\n",
            "Recall for General caution: 0.854\n",
            "Recall for Dangerous curve to the left: 0.9\n",
            "Recall for Dangerous curve to the right: 0.989\n",
            "Recall for Double curve: 0.611\n",
            "Recall for Bumpy road: 0.883\n",
            "Recall for Slippery road: 0.98\n",
            "Recall for Road narrows on the right: 0.744\n",
            "Recall for Road work: 0.912\n",
            "Recall for Traffic signals: 0.85\n",
            "Recall for Pedestrians: 0.483\n",
            "Recall for Children crossing: 0.907\n",
            "Recall for Bicycles crossing: 0.978\n",
            "Recall for Beware of ice/snow: 0.647\n",
            "Recall for Wild animals crossing: 0.993\n",
            "Recall for End of all speed and passing limits: 1.0\n",
            "Recall for Turn right ahead: 0.948\n",
            "Recall for Turn left ahead: 0.967\n",
            "Recall for Ahead only: 0.985\n",
            "Recall for Go straight or right: 0.95\n",
            "Recall for Go straight or left: 0.983\n",
            "Recall for Keep right: 0.948\n",
            "Recall for Keep left: 0.956\n",
            "Recall for Roundabout mandatory: 0.956\n",
            "Recall for End of no passing: 0.783\n",
            "Recall for End of no passing by vechiles over 3.5 metric tons: 0.967\n"
          ]
        }
      ]
    },
    {
      "cell_type": "markdown",
      "source": [
        "### Making predictions"
      ],
      "metadata": {
        "id": "qSzsvW2yOGLa"
      }
    },
    {
      "cell_type": "markdown",
      "source": [],
      "metadata": {
        "id": "KwSxFw5EXfxB"
      }
    },
    {
      "cell_type": "code",
      "source": [
        "# Load class names from signnames.csv - this is so that the indexes for the labels can be mapped to the actual text\n",
        "class_names_df = pd.read_csv('/content/german-traffic-signs/signnames.csv')\n",
        "class_names = class_names_df['SignName'].values\n",
        "\n",
        "# Index from the test set to make predictions - using a random func to pick a new road sign every time this cel is ran\n",
        "index = random.randint(0,999)\n",
        "\n",
        "# Get the image and true label\n",
        "sample_image = X_test[index]\n",
        "true_label = y_test[index]\n",
        "\n",
        "# Reshape the image to match the input shape expected by the model\n",
        "input_image = np.expand_dims(sample_image, axis=0)\n",
        "\n",
        "# Make a prediction using the trained model\n",
        "prediction = model.predict(input_image)\n",
        "predicted_label = np.argmax(prediction)\n",
        "\n",
        "# Display the image, true label, and predicted label with class names\n",
        "plt.imshow(sample_image)\n",
        "plt.title('True Label: {}\\nPredicted Label: {}'.format(class_names[true_label], class_names[predicted_label]))\n",
        "plt.show()"
      ],
      "metadata": {
        "colab": {
          "base_uri": "https://localhost:8080/",
          "height": 491
        },
        "id": "t5L3OdxONKD9",
        "outputId": "c2c26f63-5eba-4897-b302-9815c8b9833c"
      },
      "execution_count": 18,
      "outputs": [
        {
          "output_type": "stream",
          "name": "stdout",
          "text": [
            "1/1 [==============================] - 0s 100ms/step\n"
          ]
        },
        {
          "output_type": "display_data",
          "data": {
            "text/plain": [
              "<Figure size 640x480 with 1 Axes>"
            ],
            "image/png": "[encoded data removed]"
          },
          "metadata": {}
        }
      ]
    }
  ]
}
